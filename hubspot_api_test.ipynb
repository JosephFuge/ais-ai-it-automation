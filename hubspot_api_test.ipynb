import requests, json
from dotenv import load_dotenv

load_dotenv()

api_key = os.environ['HUBSPOT_KEY']


header = {
    'Authorization': f'Bearer {api_key}',
    'content-type': 'application/json'
}

url = 'https://api.hubapi.com/crm/v3/objects/tickets'

res = requests.get(url=url, headers=header)

print(json.dumps(res.json(), indent=4))

data = {
    "properties": {
        "hs_pipeline": "0",
        "hs_pipeline_stage": "1",
        "subject": "new ticket from API"
    }
}

new_ticket = requests.post(url=url, json=data, headers=header)

print(new_ticket.text)
